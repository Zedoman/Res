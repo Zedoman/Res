# Import necessary libraries
import pandas as pd
import numpy as np
from sklearn.model_selection import train_test_split
from sklearn.linear_model import LinearRegression
from sklearn.metrics import mean_squared_error, r2_score
import matplotlib.pyplot as plt

# Simulated dataset based on sectors and emission intensity from the image
data = {
    'Year': [2020, 2030, 2050, 2020, 2030, 2050, 2020, 2030, 2050, 2020, 2030, 2050],
    'Sector': ['Steel', 'Steel', 'Steel', 'Cement', 'Cement', 'Cement', 'Aluminum', 'Aluminum', 'Aluminum', 'Oil', 'Oil', 'Oil'],
    'Emission_Intensity': [0.8, 0.6, 0.3, 0.9, 0.7, 0.4, 0.5, 0.3, 0.1, 1.0, 0.8, 0.5],
    'Production_Volume': [100, 90, 80, 95, 85, 70, 110, 100, 90, 120, 110, 100],
    'Green_Adoption': [0.3, 0.5, 0.9, 0.2, 0.4, 0.8, 0.7, 0.8, 0.95, 0.1, 0.3, 0.6],  # Adoption of green technologies
    'Carbon_Capture': [0.1, 0.3, 0.7, 0.2, 0.4, 0.8, 0.5, 0.7, 0.9, 0.05, 0.2, 0.5],  # Adoption of Carbon Capture
    'Emission_Predicted': [0.7, 0.5, 0.2, 0.8, 0.6, 0.3, 0.4, 0.2, 0.05, 1.0, 0.8, 0.4]  # Simulated predicted emissions
}

# Create DataFrame
df = pd.DataFrame(data)

# Feature selection: 'Sector' needs to be converted to numerical form using OneHotEncoding or similar
df = pd.get_dummies(df, columns=['Sector'], drop_first=True)  # One-hot encode the sectors

# Features and target variable
X = df.drop(columns='Emission_Predicted')
y = df['Emission_Predicted']

# Split data into training and testing sets
X_train, X_test, y_train, y_test = train_test_split(X, y, test_size=0.2, random_state=42)

# Initialize Linear Regression
linear_model = LinearRegression()

# Train the Linear Regression model
linear_model.fit(X_train, y_train)

# Make predictions and evaluate
y_pred_linear = linear_model.predict(X_test)
mse_linear = mean_squared_error(y_test, y_pred_linear)
r2_linear = r2_score(y_test, y_pred_linear)
print(f"\nLinear Regression Mean Squared Error: {mse_linear}")
print(f"Linear Regression R-squared: {r2_linear}")

# Import necessary libraries for additional models
from sklearn.neural_network import MLPRegressor
import xgboost as xgb

# Initialize MLP Regressor
mlp_model = MLPRegressor(hidden_layer_sizes=(100, 50), max_iter=1000, random_state=42)

# Initialize XGBoost Regressor
xgb_model = xgb.XGBRegressor(objective='reg:squarederror', n_estimators=100, random_state=42)

# Initialize models
models = {
    'MLP Regressor': mlp_model,
    'XGBoost': xgb_model
}

# Train and evaluate each model
for model_name, model in models.items():
    model.fit(X_train, y_train)  # Train model
    y_pred = model.predict(X_test)  # Make predictions
    
    # Calculate performance metrics
    mse = mean_squared_error(y_test, y_pred)
    r2 = r2_score(y_test, y_pred)
    
    # Print evaluation results
    print(f"\nModel: {model_name}")
    print(f"Mean Squared Error: {mse}")
    print(f"R-squared: {r2}")

# Predict for a future scenario (2050 data for a new sector with high green adoption and carbon capture)
new_scenario = [[2050, 0.3, 80, 0.9, 0.85, 0, 1, 0]]  # Example: Aluminum sector in 2050

# Use the best performing model (change this based on best R² value)
best_model = models['XGBoost']  # Change this based on best R² value
emission_prediction = best_model.predict(new_scenario)
print(f"Predicted Emission for 2050 scenario: {emission_prediction[0]}")
